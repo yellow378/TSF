{
 "cells": [
  {
   "cell_type": "code",
   "execution_count": 6,
   "metadata": {},
   "outputs": [],
   "source": [
    "import pandas as pd\n",
    "import numpy as np\n",
    "import os\n",
    "import re\n",
    "root_path = \"../dataset/LongYuanPower\"\n",
    "file_path = \"wtbdata_245days.csv\"\n",
    "processed_path = \"../dataset/LongYuanPower/processed\""
   ]
  },
  {
   "cell_type": "code",
   "execution_count": 7,
   "metadata": {},
   "outputs": [],
   "source": [
    "def timeProcess(x):\n",
    "    time = x['Tmstamp']\n",
    "    searchObj = re.search(r'([0-9]*):([0-9]*)',time)\n",
    "    h = int(searchObj.group(1))\n",
    "    m = int(searchObj.group(2))\n",
    "    time = h*60+m\n",
    "    x['Tmstamp'] = time\n",
    "    return x"
   ]
  },
  {
   "cell_type": "code",
   "execution_count": 19,
   "metadata": {},
   "outputs": [
    {
     "name": "stdout",
     "output_type": "stream",
     "text": [
      "Index(['TurbID', 'Day', 'Tmstamp', 'Wspd', 'Wdir', 'Etmp', 'Itmp', 'Ndir',\n",
      "       'Pab1', 'Pab2', 'Pab3', 'Prtv', 'Patv'],\n",
      "      dtype='object')\n"
     ]
    }
   ],
   "source": [
    "if not os.path.exists(processed_path):\n",
    "    os.mkdir(processed_path,0o777)\n",
    "df = pd.read_csv(os.path.join(root_path,file_path))\n",
    "#缺失值\n",
    "df = df.fillna(0)\n",
    "#TODO：异常值处理\n",
    "'''\n",
    "['TurbID', 'Day', 'Tmstamp', 'Wspd', 'Wdir', 'Etmp', 'Itmp', 'Ndir',\n",
    "       'Pab1', 'Pab2', 'Pab3', 'Prtv', 'Patv']\n",
    "'''\n",
    "print(df.columns) \n",
    "columns = ['Wspd','Patv']"
   ]
  },
  {
   "cell_type": "code",
   "execution_count": 21,
   "metadata": {},
   "outputs": [
    {
     "name": "stdout",
     "output_type": "stream",
     "text": [
      "134\n"
     ]
    }
   ],
   "source": [
    "for i in range(1,135):\n",
    "    print(i)\n",
    "    df1 = df[(df['TurbID']==i)]\n",
    "    #时间信息\n",
    "    #df1 = df1.drop(['TurbID'],axis=1)\n",
    "    # df1 = df1.apply(\n",
    "    #     lambda x : timeProcess(x)\n",
    "    #     ,axis=1\n",
    "    # )\n",
    "    df1 = df1[['Wspd','Patv']]\n",
    "    df1.to_csv(os.path.join(processed_path,f\"Turb{i}.csv\"),index=False)"
   ]
  },
  {
   "cell_type": "code",
   "execution_count": null,
   "metadata": {},
   "outputs": [],
   "source": []
  }
 ],
 "metadata": {
  "kernelspec": {
   "display_name": "thuml",
   "language": "python",
   "name": "python3"
  },
  "language_info": {
   "codemirror_mode": {
    "name": "ipython",
    "version": 3
   },
   "file_extension": ".py",
   "mimetype": "text/x-python",
   "name": "python",
   "nbconvert_exporter": "python",
   "pygments_lexer": "ipython3",
   "version": "3.8.18"
  }
 },
 "nbformat": 4,
 "nbformat_minor": 2
}
