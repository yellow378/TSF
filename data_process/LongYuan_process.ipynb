{
 "cells": [
  {
   "cell_type": "code",
   "execution_count": 2,
   "metadata": {},
   "outputs": [],
   "source": [
    "import pandas as pd\n",
    "import numpy as np\n",
    "import os\n",
    "import re\n",
    "from datetime import datetime, timedelta\n",
    "root_path = \"../dataset/LongYuanPower\"\n",
    "file_path = \"wtbdata_245days.csv\"\n",
    "processed_path = \"../dataset/LongYuanPower/processed\""
   ]
  },
  {
   "cell_type": "code",
   "execution_count": 2,
   "metadata": {},
   "outputs": [],
   "source": [
    "def timeProcess(x):\n",
    "    time = x['Tmstamp']\n",
    "    searchObj = re.search(r'([0-9]*):([0-9]*)',time)\n",
    "    h = int(searchObj.group(1))\n",
    "    m = int(searchObj.group(2))\n",
    "    time = h*60+m\n",
    "    x['Date'] = time\n",
    "    return x"
   ]
  },
  {
   "cell_type": "code",
   "execution_count": 3,
   "metadata": {},
   "outputs": [
    {
     "name": "stdout",
     "output_type": "stream",
     "text": [
      "Index(['TurbID', 'Day', 'Tmstamp', 'Wspd', 'Wdir', 'Etmp', 'Itmp', 'Ndir',\n",
      "       'Pab1', 'Pab2', 'Pab3', 'Prtv', 'Patv'],\n",
      "      dtype='object')\n"
     ]
    }
   ],
   "source": [
    "if not os.path.exists(processed_path):\n",
    "    os.mkdir(processed_path,0o777)\n",
    "df = pd.read_csv(os.path.join(root_path,file_path))\n",
    "#缺失值\n",
    "df = df.fillna(0)\n",
    "#TODO：异常值处理\n",
    "'''\n",
    "['TurbID', 'Day', 'Tmstamp', 'Wspd', 'Wdir', 'Etmp', 'Itmp', 'Ndir',\n",
    "       'Pab1', 'Pab2', 'Pab3', 'Prtv', 'Patv']\n",
    "'''\n",
    "print(df.columns) \n",
    "columns = ['Wspd','Patv']"
   ]
  },
  {
   "cell_type": "code",
   "execution_count": 4,
   "metadata": {},
   "outputs": [
    {
     "name": "stdout",
     "output_type": "stream",
     "text": [
      "   TurbID  Wspd  Wdir   Etmp   Itmp   Ndir  Pab1  Pab2  Pab3  Prtv    Patv  \\\n",
      "0       1  0.00  0.00   0.00   0.00   0.00   0.0   0.0   0.0  0.00    0.00   \n",
      "1       1  6.17 -3.99  30.73  41.80  25.92   1.0   1.0   1.0 -0.25  494.66   \n",
      "2       1  6.27 -2.18  30.60  41.63  20.91   1.0   1.0   1.0 -0.24  509.76   \n",
      "3       1  6.42 -0.73  30.52  41.52  20.91   1.0   1.0   1.0 -0.26  542.53   \n",
      "4       1  6.25  0.89  30.49  41.38  20.91   1.0   1.0   1.0 -0.23  509.36   \n",
      "\n",
      "                 date  \n",
      "0 2024-01-01 00:00:00  \n",
      "1 2024-01-01 00:10:00  \n",
      "2 2024-01-01 00:20:00  \n",
      "3 2024-01-01 00:30:00  \n",
      "4 2024-01-01 00:40:00  \n"
     ]
    }
   ],
   "source": [
    "current_year = datetime.now().year\n",
    "df['Date'] = pd.to_datetime(current_year * 1000 + df['Day'], format='%Y%j')  # %j 是一年中的第几天\n",
    "\n",
    "# 将 Tmstamp 列添加到 Date 列\n",
    "df['date'] = pd.to_datetime(df['Date'].astype(str) + ' ' + df['Tmstamp'])\n",
    "\n",
    "# 删除临时列\n",
    "df = df.drop(columns=['Day', 'Tmstamp', 'Date'])\n",
    "\n",
    "# 检查结果\n",
    "print(df.head())"
   ]
  },
  {
   "cell_type": "code",
   "execution_count": 5,
   "metadata": {},
   "outputs": [
    {
     "name": "stdout",
     "output_type": "stream",
     "text": [
      "         TurbID  Wspd  Wdir   Etmp   Itmp    Ndir  Pab1  Pab2  Pab3    Prtv  \\\n",
      "0             1  0.00  0.00   0.00   0.00    0.00  0.00  0.00  0.00    0.00   \n",
      "1             1  6.17 -3.99  30.73  41.80   25.92  1.00  1.00  1.00   -0.25   \n",
      "2             1  6.27 -2.18  30.60  41.63   20.91  1.00  1.00  1.00   -0.24   \n",
      "3             1  6.42 -0.73  30.52  41.52   20.91  1.00  1.00  1.00   -0.26   \n",
      "4             1  6.25  0.89  30.49  41.38   20.91  1.00  1.00  1.00   -0.23   \n",
      "...         ...   ...   ...    ...    ...     ...   ...   ...   ...     ...   \n",
      "4727515     134  7.79  2.80  -0.07   3.95  216.51  6.03  6.03  6.03 -111.69   \n",
      "4727516     134  8.06  4.39   0.23   3.94  216.51  5.81  5.81  5.81  -72.67   \n",
      "4727517     134  8.08  2.28  -0.16   4.15  216.51  0.68  0.68  0.68 -118.70   \n",
      "4727518     134  8.46  0.80  -0.14   4.32  216.51  0.02  0.02  0.02  -58.12   \n",
      "4727519     134  8.68  0.52  -0.06   4.39  216.51  0.01  0.01  0.01  -44.75   \n",
      "\n",
      "            Patv                date  \n",
      "0           0.00 2024-01-01 00:00:00  \n",
      "1         494.66 2024-01-01 00:10:00  \n",
      "2         509.76 2024-01-01 00:20:00  \n",
      "3         542.53 2024-01-01 00:30:00  \n",
      "4         509.36 2024-01-01 00:40:00  \n",
      "...          ...                 ...  \n",
      "4727515   601.44 2024-09-01 23:10:00  \n",
      "4727516   673.79 2024-09-01 23:20:00  \n",
      "4727517   999.36 2024-09-01 23:30:00  \n",
      "4727518  1100.89 2024-09-01 23:40:00  \n",
      "4727519  1181.49 2024-09-01 23:50:00  \n",
      "\n",
      "[4727520 rows x 12 columns]\n"
     ]
    }
   ],
   "source": [
    "print(df)"
   ]
  },
  {
   "cell_type": "code",
   "execution_count": 7,
   "metadata": {},
   "outputs": [
    {
     "name": "stdout",
     "output_type": "stream",
     "text": [
      "1\n"
     ]
    }
   ],
   "source": [
    "for i in range(1,2):\n",
    "    print(i)\n",
    "    df1 = df[(df['TurbID']==i)]\n",
    "    #时间信息\n",
    "    df1 = df1.drop(['TurbID'],axis=1)\n",
    "    # df1 = df1.apply(\n",
    "    #     lambda x : timeProcess(x)\n",
    "    #     ,axis=1\n",
    "    # )\n",
    "    df1 = df1[['date', 'Wspd', 'Wdir', 'Etmp', 'Itmp', 'Ndir',\n",
    "       'Pab1', 'Pab2', 'Pab3', 'Prtv', 'Patv']]\n",
    "    df1.to_csv(os.path.join(processed_path,f\"Turb{i}.csv\"),index=False)"
   ]
  },
  {
   "cell_type": "code",
   "execution_count": null,
   "metadata": {},
   "outputs": [],
   "source": []
  }
 ],
 "metadata": {
  "kernelspec": {
   "display_name": "Python 3 (ipykernel)",
   "language": "python",
   "name": "python3"
  },
  "language_info": {
   "codemirror_mode": {
    "name": "ipython",
    "version": 3
   },
   "file_extension": ".py",
   "mimetype": "text/x-python",
   "name": "python",
   "nbconvert_exporter": "python",
   "pygments_lexer": "ipython3",
   "version": "3.8.18"
  }
 },
 "nbformat": 4,
 "nbformat_minor": 4
}
