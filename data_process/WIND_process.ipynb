{
 "cells": [
  {
   "cell_type": "code",
   "execution_count": 1,
   "metadata": {},
   "outputs": [],
   "source": [
    "import pandas as pd\n",
    "import numpy as np\n",
    "import os\n",
    "import re\n",
    "root_path = \"../dataset/WIND\"\n",
    "file_path = \"{}.csv\"\n",
    "processed_path = \"../dataset/WIND/processed\""
   ]
  },
  {
   "cell_type": "code",
   "execution_count": 2,
   "metadata": {},
   "outputs": [],
   "source": [
    "def timeProcess(x):\n",
    "    time = x['Tmstamp']\n",
    "    searchObj = re.search(r'([0-9]*):([0-9]*)',time)\n",
    "    h = int(searchObj.group(1))\n",
    "    m = int(searchObj.group(2))\n",
    "    time = h*60+m\n",
    "    x['Tmstamp'] = time\n",
    "    return x"
   ]
  },
  {
   "cell_type": "code",
   "execution_count": 6,
   "metadata": {},
   "outputs": [
    {
     "name": "stdout",
     "output_type": "stream",
     "text": [
      "Index(['Year', 'Month', 'Day', 'Hour', 'Minute', 'surface air pressure (Pa)',\n",
      "       'air pressure at 100m (Pa)', 'air pressure at 200m (Pa)',\n",
      "       'relative humidity at 2m (%)', 'surface precipitation rate (mm/h)',\n",
      "       'wind speed at 10m (m/s)', 'wind speed at 40m (m/s)',\n",
      "       'wind speed at 60m (m/s)', 'wind speed at 80m (m/s)',\n",
      "       'wind speed at 100m (m/s)', 'wind speed at 120m (m/s)',\n",
      "       'wind speed at 140m (m/s)', 'wind speed at 160m (m/s)',\n",
      "       'wind speed at 200m (m/s)', 'wind direction at 10m (deg)',\n",
      "       'wind direction at 40m (deg)', 'wind direction at 60m (deg)',\n",
      "       'wind direction at 80m (deg)', 'wind direction at 100m (deg)',\n",
      "       'wind direction at 120m (deg)', 'wind direction at 140m (deg)',\n",
      "       'wind direction at 160m (deg)', 'wind direction at 200m (deg)',\n",
      "       'air temperature at 10m (C)', 'air temperature at 40m (C)',\n",
      "       'air temperature at 60m (C)', 'air temperature at 80m (C)',\n",
      "       'air temperature at 100m (C)', 'air temperature at 120m (C)',\n",
      "       'air temperature at 140m (C)', 'air temperature at 160m (C)',\n",
      "       'air temperature at 200m (C)', 'density - DEPRECATED',\n",
      "       'power - DEPRECATED'],\n",
      "      dtype='object')\n"
     ]
    }
   ],
   "source": [
    "if not os.path.exists(processed_path):\n",
    "    os.mkdir(processed_path,0o777)\n",
    "for i in range(0,144):\n",
    "    df = pd.read_csv(os.path.join(root_path,file_path.format(i)),skiprows=1)\n",
    "    #缺失值\n",
    "    df = df.fillna(0)\n",
    "    #TODO：异常值处理\n",
    "    '''\n",
    "    ['Year', 'Month', 'Day', 'Hour', 'Minute', 'surface air pressure (Pa)',\n",
    "        'air pressure at 100m (Pa)', 'air pressure at 200m (Pa)',\n",
    "        'relative humidity at 2m (%)', 'surface precipitation rate (mm/h)',\n",
    "        'wind speed at 10m (m/s)', 'wind speed at 40m (m/s)',\n",
    "        'wind speed at 60m (m/s)', 'wind speed at 80m (m/s)',\n",
    "        'wind speed at 100m (m/s)', 'wind speed at 120m (m/s)',\n",
    "        'wind speed at 140m (m/s)', 'wind speed at 160m (m/s)',\n",
    "        'wind speed at 200m (m/s)', 'wind direction at 10m (deg)',\n",
    "        'wind direction at 40m (deg)', 'wind direction at 60m (deg)',\n",
    "        'wind direction at 80m (deg)', 'wind direction at 100m (deg)',\n",
    "        'wind direction at 120m (deg)', 'wind direction at 140m (deg)',\n",
    "        'wind direction at 160m (deg)', 'wind direction at 200m (deg)',\n",
    "        'air temperature at 10m (C)', 'air temperature at 40m (C)',\n",
    "        'air temperature at 60m (C)', 'air temperature at 80m (C)',\n",
    "        'air temperature at 100m (C)', 'air temperature at 120m (C)',\n",
    "        'air temperature at 140m (C)', 'air temperature at 160m (C)',\n",
    "        'air temperature at 200m (C)', 'density - DEPRECATED',\n",
    "        'power - DEPRECATED']\n",
    "    '''\n",
    "    #print(df.columns) \n",
    "    columns = ['wind speed at 100m (m/s)']\n",
    "    df1 = df[columns]\n",
    "    df1.to_csv(os.path.join(processed_path,f\"Turb{0}.csv\"),index=False)"
   ]
  }
 ],
 "metadata": {
  "kernelspec": {
   "display_name": "thuml",
   "language": "python",
   "name": "python3"
  },
  "language_info": {
   "codemirror_mode": {
    "name": "ipython",
    "version": 3
   },
   "file_extension": ".py",
   "mimetype": "text/x-python",
   "name": "python",
   "nbconvert_exporter": "python",
   "pygments_lexer": "ipython3",
   "version": "3.8.18"
  }
 },
 "nbformat": 4,
 "nbformat_minor": 2
}
